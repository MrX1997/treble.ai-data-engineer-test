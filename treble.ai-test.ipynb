{
 "cells": [
  {
   "cell_type": "markdown",
   "metadata": {},
   "source": [
    "# library"
   ]
  },
  {
   "cell_type": "code",
   "execution_count": 80,
   "metadata": {},
   "outputs": [],
   "source": [
    "from sqlalchemy import create_engine\n",
    "from sqlalchemy.exc import OperationalError\n",
    "from sqlalchemy.ext.declarative import declarative_base\n",
    "from sqlalchemy.orm import sessionmaker, scoped_session\n",
    "from sqlalchemy.orm import session\n",
    "\n",
    "import pandas as pd\n",
    "from sqlalchemy.sql import text\n",
    "import pandas as pd"
   ]
  },
  {
   "cell_type": "markdown",
   "metadata": {},
   "source": [
    "# global variables"
   ]
  },
  {
   "cell_type": "code",
   "execution_count": 81,
   "metadata": {},
   "outputs": [],
   "source": [
    "dbname = 'test'\n",
    "user = 'user_test'\n",
    "password = 'Password123'\n",
    "host = 'redshift-cluster-datawarehouse.cew9a5azwld4.us-east-1.redshift.amazonaws.com'\n",
    "port = 5439\n",
    "protocol = 'postgresql'"
   ]
  },
  {
   "cell_type": "code",
   "execution_count": 82,
   "metadata": {},
   "outputs": [],
   "source": [
    "Base = declarative_base()\n",
    "\n",
    "class TrebleDBTest:\n",
    "    def __init__(self, protocol, user, password, url, port, database):\n",
    "        self.protocol = protocol\n",
    "        self.user = user\n",
    "        self.password = password\n",
    "        self.url = url\n",
    "        self.port = port\n",
    "        self.database = database\n",
    "        self.engine = None\n",
    "        self.session = None\n",
    "\n",
    "    def _build_connection_string(self):\n",
    "        return f\"{self.protocol}://{self.user}:{self.password}@{self.url}:{self.port}/{self.database}\"\n",
    "\n",
    "    def connect(self):\n",
    "        connection_string = self._build_connection_string()\n",
    "        self.engine = create_engine(connection_string)\n",
    "        self.session = scoped_session(sessionmaker(bind=self.engine))\n",
    "        print(\"Connection successful to Treble.AI datawarehouse!\")\n",
    "\n",
    "    def close(self):\n",
    "        if self.session:\n",
    "            self.session.remove()\n",
    "        if self.engine:\n",
    "            self.engine.dispose()"
   ]
  },
  {
   "cell_type": "code",
   "execution_count": 83,
   "metadata": {},
   "outputs": [
    {
     "name": "stdout",
     "output_type": "stream",
     "text": [
      "Connection successful to Treble.AI datawarehouse!\n"
     ]
    }
   ],
   "source": [
    "conn_params = {\n",
    "    \"protocol\": protocol,\n",
    "    \"user\": user,\n",
    "    \"password\": password,\n",
    "    \"url\": host,\n",
    "    \"port\": port,\n",
    "    \"database\": dbname\n",
    "}\n",
    "\n",
    "db_connection = TrebleDBTest(**conn_params)\n",
    "db_connection.connect()\n",
    "\n",
    "db_connection.close()\n",
    "\n"
   ]
  },
  {
   "cell_type": "code",
   "execution_count": null,
   "metadata": {},
   "outputs": [],
   "source": [
    "def inspect_database(engine):\n",
    "    # Use the inspector to get table details\n",
    "    inspector = reflection.Inspector.from_engine(engine)\n",
    "\n",
    "    # Fetch table names\n",
    "    tables = inspector.get_table_names()\n",
    "\n",
    "    print(\"Tables in the database:\")\n",
    "    for table in tables:\n",
    "        print(table)\n",
    "\n",
    "        # Fetch columns in the table\n",
    "        columns = inspector.get_columns(table)\n",
    "        print(\"Columns:\")\n",
    "        for column in columns:\n",
    "            print(f\"  - {column['name']} ({column['type']})\")\n",
    "\n",
    "        # Fetch foreign key relations\n",
    "        fks = inspector.get_foreign_keys(table)\n",
    "        if fks:\n",
    "            print(\"Foreign Key Relations:\")\n",
    "            for fk in fks:\n",
    "                print(f\"  - Constraint Name: {fk['name']}\")\n",
    "                print(f\"    Source: {fk['constrained_columns']}\")\n",
    "                print(f\"    References: {fk['referred_table']}({', '.join(fk['referred_columns'])})\")\n",
    "        print(\"\\n\")\n",
    "\n",
    "# Usage\n",
    "engine = create_connection()\n",
    "inspect_database(engine)\n",
    "\n",
    "# Close the connection\n",
    "engine.dispose()"
   ]
  }
 ],
 "metadata": {
  "kernelspec": {
   "display_name": ".venv",
   "language": "python",
   "name": "python3"
  },
  "language_info": {
   "codemirror_mode": {
    "name": "ipython",
    "version": 3
   },
   "file_extension": ".py",
   "mimetype": "text/x-python",
   "name": "python",
   "nbconvert_exporter": "python",
   "pygments_lexer": "ipython3",
   "version": "3.10.6"
  },
  "orig_nbformat": 4
 },
 "nbformat": 4,
 "nbformat_minor": 2
}
